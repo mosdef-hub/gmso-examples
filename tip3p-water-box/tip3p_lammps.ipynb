{
 "cells": [
  {
   "cell_type": "code",
   "execution_count": null,
   "metadata": {},
   "outputs": [],
   "source": [
    "import mbuild as mb\n",
    "\n",
    "import gmso\n",
    "from gmso import ForceField\n",
    "from gmso.external import convert_mbuild\n",
    "from gmso.formats.lammpsdata import write_lammpsdata\n",
    "from mbuild.formats.lammpsdata import write_lammpsdata"
   ]
  },
  {
   "cell_type": "code",
   "execution_count": null,
   "metadata": {},
   "outputs": [],
   "source": [
    "# Load in single water TIP3P structure\n",
    "\n",
    "water = mb.load(\"files/tip3p.mol2\")\n",
    "water = water.children[0]\n",
    "water.name = \"water\"\n",
    "\n",
    "# element_map = which site name corresponds to which atom_type name. \n",
    "# In the future atomtyping will be done through foyer. \n",
    "element_map = {\"O\": \"opls_111\",\n",
    "               \"H\": \"opls_112\"}"
   ]
  },
  {
   "cell_type": "code",
   "execution_count": null,
   "metadata": {},
   "outputs": [],
   "source": [
    "# Fill a box with 1000 water molecule\n",
    "\n",
    "water_box = mb.fill_box(\n",
    "    compound=water,     \n",
    "    n_compounds=1000,\n",
    "    density=1000,\n",
    ")"
   ]
  },
  {
   "cell_type": "code",
   "execution_count": null,
   "metadata": {},
   "outputs": [],
   "source": [
    "# Load in topology forcefield\n",
    "\n",
    "forcefield = ForceField(\"files/tip3p.xml\")"
   ]
  },
  {
   "cell_type": "code",
   "execution_count": null,
   "metadata": {},
   "outputs": [],
   "source": [
    "# Generate a topology from the mbuild compound\n",
    "\n",
    "top = convert_mbuild.from_mbuild(water_box)"
   ]
  },
  {
   "cell_type": "code",
   "execution_count": null,
   "metadata": {},
   "outputs": [],
   "source": [
    "# Assign atom types\n",
    "for atom in top.sites:\n",
    "    atom.atom_type = forcefield.atom_types[element_map[atom.name]]\n",
    "    \n",
    "# Assign bond types\n",
    "for bond in top.bonds:\n",
    "    bond.bond_type = bond.connection_type = forcefield.bond_types[\"opls_111~opls_112\"]\n",
    "\n",
    "# Create angles with correct atom type and add to top\n",
    "for subtop in top.subtops:\n",
    "    angle = gmso.core.angle.Angle(\n",
    "        connection_members=[site for site in subtop.sites],\n",
    "        name=\"opls_112~opls_111~opls_112\",\n",
    "        connection_type=forcefield.angle_types[\"opls_112~opls_111~opls_112\"]\n",
    "    )\n",
    "    top.add_connection(angle, update_types=False)\n",
    "\n",
    "top.update_topology()"
   ]
  },
  {
   "cell_type": "code",
   "execution_count": null,
   "metadata": {},
   "outputs": [],
   "source": [
    "# Write out LAMMPS Files\n",
    "write_lammpsdata(top, 'data.tip3p')"
   ]
  },
  {
   "cell_type": "code",
   "execution_count": null,
   "metadata": {},
   "outputs": [],
   "source": [
    "# Run the lammps simulation\n",
    "!lmp_serial < files/in.tip3p"
   ]
  }
 ],
 "metadata": {
  "kernelspec": {
   "display_name": "Python 3",
   "language": "python",
   "name": "python3"
  },
  "language_info": {
   "codemirror_mode": {
    "name": "ipython",
    "version": 3
   },
   "file_extension": ".py",
   "mimetype": "text/x-python",
   "name": "python",
   "nbconvert_exporter": "python",
   "pygments_lexer": "ipython3",
   "version": "3.6.8"
  }
 },
 "nbformat": 4,
 "nbformat_minor": 2
}
